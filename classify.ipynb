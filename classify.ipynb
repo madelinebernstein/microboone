{
 "cells": [
  {
   "cell_type": "markdown",
   "metadata": {},
   "source": [
    "I am not sure what these lines do, so I blocked them.  I don't think it's necessary if you're not using the practice files."
   ]
  },
  {
   "cell_type": "code",
   "execution_count": 1,
   "metadata": {},
   "outputs": [],
   "source": [
    "# %%bash\n",
    "# # Preparation: make symbolic links for practice_train_10k.root and practice_test_10k.root\n",
    "# PRACTICE_FILE_DIR=.\n",
    "# ln -sf $PRACTICE_FILE_DIR/e_m_hadd.root ./train.root\n",
    "# ln -sf $PRACTICE_FILE_DIR/e_m_hadd.root ./test.root"
   ]
  },
  {
   "cell_type": "markdown",
   "metadata": {},
   "source": [
    "There is some sort of weird quirk happening.  The files I made don't have the whole-event information (neutrino type, etc) so this section of code will reprocess those files and add event information.\n",
    "\n",
    "I am remaking the files already for other reasons, but this will be fixed soon with high stats files."
   ]
  },
  {
   "cell_type": "code",
   "execution_count": 2,
   "metadata": {},
   "outputs": [
    {
     "data": {
      "application/javascript": [
       "\n",
       "require(['notebook'],\n",
       "  function() {\n",
       "    IPython.CodeCell.config_defaults.highlight_modes['magic_text/x-c++src'] = {'reg':[/^%%cpp/]};\n",
       "    console.log(\"JupyROOT - %%cpp magic configured\");\n",
       "  }\n",
       ");\n"
      ]
     },
     "metadata": {},
     "output_type": "display_data"
    },
    {
     "name": "stdout",
     "output_type": "stream",
     "text": [
      "Welcome to JupyROOT 6.08/06\n",
      "env: CUDA_DEVICE_ORDER=PCI_BUS_ID\n",
      "env: CUDA_VISIBLE_DEVICES=2\n"
     ]
    }
   ],
   "source": [
    "from larcv import larcv\n",
    "from larcv.dataloader3 import larcv_threadio\n",
    "import numpy as np\n",
    "import matplotlib\n",
    "import matplotlib.pyplot as plt\n",
    "%matplotlib inline\n",
    "import os,sys,time\n",
    "\n",
    "# tensorflow/gpu start-up configuration\n",
    "os.environ['TF_CPP_MIN_LOG_LEVEL'] = '3'\n",
    "%env CUDA_DEVICE_ORDER=PCI_BUS_ID\n",
    "%env CUDA_VISIBLE_DEVICES=2\n",
    "#import tensorflow as tf"
   ]
  },
  {
   "cell_type": "code",
   "execution_count": 3,
   "metadata": {},
   "outputs": [],
   "source": [
    "preprocess_cfg = '''\n",
    "ProcessDriver: {\n",
    "  Verbosity:       2\n",
    "  EnableFilter:    false\n",
    "  RandomAccess:    1\n",
    "  RandomSeed:      0\n",
    "  ProcessType:     [\"EventPIDLabel\"]\n",
    "  ProcessName:     [\"EventPIDLabel\"]\n",
    "\n",
    "  IOManager: {\n",
    "    Verbosity:   2\n",
    "    Name:        \"IOManager\"\n",
    "    IOMode:      2\n",
    "    OutFileName: \"neutrino_images_with_labels.root\"\n",
    "    InputFiles:  [\"/data/sbnd/sbnd_dl_samples/sbnd_dl_nueCC_larcv_dev.root\",\"/data/sbnd/sbnd_dl_samples/sbnd_dl_numuCC_larcv_dev.root\"]\n",
    "    InputDirs:   []\n",
    "    StoreOnlyType: [\"image2d\",\"particle\"]\n",
    "    StoreOnlyName: [\"sbndwire\",\"sbnd_eventlabel\"]\n",
    "  }\n",
    "\n",
    "  ProcessList: {\n",
    "    EventPIDLabel: {\n",
    "      OutputProducer: \"sbnd_eventlabel\"\n",
    "      ParticleProducer: \"sbndseg\"\n",
    "    }\n",
    "  }\n",
    "}\n",
    "\n",
    "'''\n",
    "\n",
    "with open('preprocess.cfg', 'w') as _preprocess_cfg:\n",
    "    _preprocess_cfg.write(preprocess_cfg)"
   ]
  },
  {
   "cell_type": "markdown",
   "metadata": {},
   "source": [
    "Run that configuration file:"
   ]
  },
  {
   "cell_type": "code",
   "execution_count": 4,
   "metadata": {},
   "outputs": [],
   "source": [
    "if False:\n",
    "    proc = larcv.ProcessDriver('ProcessDriver')\n",
    "    proc.configure('preprocess.cfg')\n",
    "\n",
    "    proc.initialize()\n",
    "    proc.batch_process()\n",
    "    proc.finalize()"
   ]
  },
  {
   "cell_type": "markdown",
   "metadata": {},
   "source": [
    "The following line will write out a config file to the current directory.  You don't have to do this, really, but I thought it would be useful to persist the config file.  You will need to change the input files, too."
   ]
  },
  {
   "cell_type": "code",
   "execution_count": 5,
   "metadata": {},
   "outputs": [],
   "source": [
    "config_file = '''\n",
    "TrainIO: {\n",
    "  Verbosity:       2\n",
    "  EnableFilter:    false\n",
    "  RandomAccess:    0\n",
    "  RandomSeed:      0\n",
    "  InputFiles:      [\"neutrino_images_with_labels.root\"]\n",
    "  ProcessType:     [\"BatchFillerImage2D\",\"BatchFillerPIDLabel\"]\n",
    "  ProcessName:     [\"main_data\",\"main_label\"]\n",
    "  NumThreads:      1\n",
    "  NumBatchStorage: 1\n",
    "\n",
    "  ProcessList: {\n",
    "\n",
    "    main_data: {\n",
    "      Verbosity: 3\n",
    "      ImageProducer: \"sbndwire\"\n",
    "      Channels: [2]\n",
    "    }\n",
    "    main_label: {\n",
    "      Verbosity: 3\n",
    "      ParticleProducer: \"sbnd_eventlabel\"\n",
    "      PdgClassList: [12, 14] #12 is nue, 14 is numu\n",
    "    }\n",
    "  }\n",
    "}\n",
    "\n",
    "'''\n",
    "\n",
    "with open('config_train.cfg', 'w') as _train_cfg:\n",
    "    _train_cfg.write(config_file)"
   ]
  },
  {
   "cell_type": "code",
   "execution_count": null,
   "metadata": {},
   "outputs": [],
   "source": []
  },
  {
   "cell_type": "code",
   "execution_count": null,
   "metadata": {},
   "outputs": [],
   "source": []
  },
  {
   "cell_type": "code",
   "execution_count": 6,
   "metadata": {},
   "outputs": [],
   "source": [
    "DIR     = '.'\n",
    "TRAIN_IO_CONFIG  = 'config_train.cfg'#os.path.join(DIR, 'config_train.cfg')\n",
    "# TEST_IO_CONFIG   = 'config_test.cfg'#os.path.join(DIR, 'config_test.cfg' )\n",
    "TRAIN_BATCH_SIZE = 5\n",
    "# TEST_BATCH_SIZE  = 100\n",
    "LOGDIR           = 'log'\n",
    "ITERATIONS       = 5000\n",
    "SAVE_SUMMARY     = 20\n",
    "SAVE_WEIGHTS     = 100\n",
    "\n",
    "# Check log directory is empty\n",
    "train_logdir = os.path.join(LOGDIR,'train')\n",
    "# test_logdir  = os.path.join(LOGDIR,'test')\n",
    "if not os.path.isdir(train_logdir): os.makedirs(train_logdir)\n",
    "# if not os.path.isdir(test_logdir):  os.makedirs(test_logdir)\n",
    "if len(os.listdir(train_logdir)):\n",
    "  sys.stderr.write('Error: train or test log dir not empty...\\n')\n",
    "  raise OSError"
   ]
  },
  {
   "cell_type": "markdown",
   "metadata": {},
   "source": [
    "Above, I removed the test directory stuff.  I'm trying to simplify and get a working example with just training info."
   ]
  },
  {
   "cell_type": "code",
   "execution_count": 7,
   "metadata": {},
   "outputs": [
    {
     "name": "stdout",
     "output_type": "stream",
     "text": [
      "Threaded IO Interface created.\n",
      "<class 'larcv.dataloader3.larcv_threadio'>\n",
      "\u001b[93m setting verbosity \u001b[00m2\n",
      "    \u001b[95m[NORMAL]\u001b[00m \u001b[0m \u001b[94m<TrainIO0::configure>\u001b[00m Instantiating Process ID=0 Type: BatchFillerImage2D w/ Name: main_data_t0\n",
      "    \u001b[95m[NORMAL]\u001b[00m \u001b[0m \u001b[94m<TrainIO0::configure>\u001b[00m Instantiating Process ID=1 Type: BatchFillerPIDLabel w/ Name: main_label_t0\n",
      "    \u001b[95m[NORMAL]\u001b[00m \u001b[0m \u001b[94m<TrainIO::configure>\u001b[00m Done configuration ...\n",
      "    \u001b[95m[NORMAL]\u001b[00m \u001b[0m \u001b[94m<TrainIO0IOManager::prepare_input>\u001b[00m Opening a file in READ mode: neutrino_images_with_labels.root\n",
      "    \u001b[95m[NORMAL]\u001b[00m \u001b[0m \u001b[94m<TrainIO0IOManager::initialize>\u001b[00m Prepared input with 606 entries...\n",
      "Train IO configured.\n",
      "Train IO manager started.\n",
      "Train IO first batch read.\n"
     ]
    },
    {
     "name": "stderr",
     "output_type": "stream",
     "text": [
      "Warning in <TClass::TClass>: no dictionary for class thread is available\n"
     ]
    }
   ],
   "source": [
    "#\n",
    "# Step 0: IO\n",
    "#\n",
    "#for \"train\" data set\n",
    "train_io = larcv_threadio()  # create io interface\n",
    "print \"Threaded IO Interface created.\"\n",
    "train_io_cfg = {'filler_name' : 'TrainIO',\n",
    "                'verbosity'   : 0,\n",
    "                'filler_cfg'  : TRAIN_IO_CONFIG}\n",
    "print type(train_io)\n",
    "train_io.configure(train_io_cfg)   # configure\n",
    "print \"Train IO configured.\"\n",
    "train_io.start_manager(TRAIN_BATCH_SIZE) # start read thread\n",
    "print \"Train IO manager started.\"\n",
    "time.sleep(2)\n",
    "train_io.next()\n",
    "print \"Train IO first batch read.\"\n",
    "\n",
    "# # for \"test\" data set\n",
    "# test_io = larcv_threadio()   # create io interface\n",
    "# test_io_cfg = {'filler_name' : 'TestIO',\n",
    "#                'verbosity'   : 0,\n",
    "#                'filler_cfg'  : TEST_IO_CONFIG}\n",
    "# test_io.configure(test_io_cfg)   # configure\n",
    "# test_io.start_manager(TEST_BATCH_SIZE) # start read thread\n",
    "# time.sleep(2)\n",
    "# # test_io.next()"
   ]
  },
  {
   "cell_type": "code",
   "execution_count": 8,
   "metadata": {},
   "outputs": [],
   "source": [
    "train_io.next()"
   ]
  },
  {
   "cell_type": "code",
   "execution_count": 9,
   "metadata": {},
   "outputs": [],
   "source": [
    "images = train_io.fetch_data(key='main_data')\n",
    "labels = train_io.fetch_data(key='main_label')"
   ]
  },
  {
   "cell_type": "markdown",
   "metadata": {},
   "source": [
    "This is the training data, then.  You can build a network and train on it, and call train_io.next() to fetch the next batch.  I'll display the images so you can see them at least:"
   ]
  },
  {
   "cell_type": "code",
   "execution_count": 16,
   "metadata": {},
   "outputs": [
    {
     "name": "stdout",
     "output_type": "stream",
     "text": [
      "[[ 1.  0.]\n",
      " [ 1.  0.]\n",
      " [ 0.  1.]\n",
      " [ 1.  0.]\n",
      " [ 0.  1.]]\n"
     ]
    }
   ],
   "source": [
    "print labels.data()"
   ]
  },
  {
   "cell_type": "markdown",
   "metadata": {},
   "source": [
    "Draw an image where the event is nue:"
   ]
  },
  {
   "cell_type": "code",
   "execution_count": 12,
   "metadata": {},
   "outputs": [],
   "source": [
    "import numpy\n"
   ]
  },
  {
   "cell_type": "code",
   "execution_count": 22,
   "metadata": {},
   "outputs": [],
   "source": [
    "nue_index = numpy.where(labels.data()[:,0] == 1)[0][0]\n",
    "numu_index = numpy.where(labels.data()[:,1] == 1)[0][0]"
   ]
  },
  {
   "cell_type": "code",
   "execution_count": 23,
   "metadata": {},
   "outputs": [
    {
     "name": "stdout",
     "output_type": "stream",
     "text": [
      "0\n",
      "2\n"
     ]
    }
   ],
   "source": [
    "print nue_index\n",
    "print numu_index"
   ]
  },
  {
   "cell_type": "code",
   "execution_count": 39,
   "metadata": {},
   "outputs": [
    {
     "name": "stdout",
     "output_type": "stream",
     "text": [
      "(5, 1280, 1666, 1)\n"
     ]
    }
   ],
   "source": [
    "shaped_images = numpy.reshape(images.data(), images.dim())\n",
    "print shaped_images.shape\n",
    "nue_image  = numpy.squeeze(shaped_images[nue_index])\n",
    "numu_image = numpy.squeeze(shaped_images[numu_index])"
   ]
  },
  {
   "cell_type": "code",
   "execution_count": 25,
   "metadata": {},
   "outputs": [],
   "source": [
    "from matplotlib import pyplot as plt"
   ]
  },
  {
   "cell_type": "code",
   "execution_count": 46,
   "metadata": {},
   "outputs": [
    {
     "data": {
      "text/plain": [
       "<matplotlib.image.AxesImage at 0x7f03d817e890>"
      ]
     },
     "execution_count": 46,
     "metadata": {},
     "output_type": "execute_result"
    },
    {
     "name": "stdout",
     "output_type": "stream",
     "text": [
      "(1280, 1666)\n"
     ]
    },
    {
     "data": {
      "image/png": "[encoded data removed]",
      "text/plain": [
       "<matplotlib.figure.Figure at 0x7f03e0027b50>"
      ]
     },
     "metadata": {},
     "output_type": "display_data"
    }
   ],
   "source": [
    "print nue_image.shape\n",
    "fig = plt.figure(figsize=(16,9))\n",
    "plt.imshow(nue_image,cmap='Greys',vmin=0, vmax=5)"
   ]
  },
  {
   "cell_type": "code",
   "execution_count": 47,
   "metadata": {},
   "outputs": [
    {
     "data": {
      "text/plain": [
       "<matplotlib.image.AxesImage at 0x7f03d8131490>"
      ]
     },
     "execution_count": 47,
     "metadata": {},
     "output_type": "execute_result"
    },
    {
     "name": "stdout",
     "output_type": "stream",
     "text": [
      "(1280, 1666)\n"
     ]
    },
    {
     "data": {
      "image/png": "[encoded data removed]",
      "text/plain": [
       "<matplotlib.figure.Figure at 0x7f03dfdea0d0>"
      ]
     },
     "metadata": {},
     "output_type": "display_data"
    }
   ],
   "source": [
    "print numu_image.shape\n",
    "fig = plt.figure(figsize=(16,9))\n",
    "plt.imshow(numu_image,cmap='Greys',vmin=0, vmax=5)"
   ]
  },
  {
   "cell_type": "code",
   "execution_count": null,
   "metadata": {},
   "outputs": [],
   "source": []
  }
 ],
 "metadata": {
  "kernelspec": {
   "display_name": "Python 2",
   "language": "python",
   "name": "python2"
  },
  "language_info": {
   "codemirror_mode": {
    "name": "ipython",
    "version": 2
   },
   "file_extension": ".py",
   "mimetype": "text/x-python",
   "name": "python",
   "nbconvert_exporter": "python",
   "pygments_lexer": "ipython2",
   "version": "2.7.12"
  }
 },
 "nbformat": 4,
 "nbformat_minor": 2
}
